{
 "cells": [
  {
   "cell_type": "code",
   "execution_count": 1,
   "id": "1b7f97b7",
   "metadata": {},
   "outputs": [],
   "source": [
    "# Tic Tac Toe game\n",
    "# Requirements: - Two player should be able to play the game (at the same computer)\n",
    "#               - Board should be printed out every time a player makes a move\n",
    "#               - Accept input of the player position and then place a symbol on the board\n",
    "#\n",
    "# We will use the 'numpad' to match numbers to the grid on a tic tac toe board:\n",
    "# 7 8 9\n",
    "# 4 5 6\n",
    "# 1 2 3"
   ]
  },
  {
   "cell_type": "code",
   "execution_count": 2,
   "id": "d0dd4caa",
   "metadata": {},
   "outputs": [],
   "source": [
    "## Display board\n",
    "from IPython.display import clear_output\n",
    "\n",
    "def display_board(board):\n",
    "    clear_output()\n",
    "    \n",
    "    print(board[7] + '|' + board[8] + '|' + board[9])\n",
    "    print('-|-|-')\n",
    "    print(board[4] + '|' + board[5] + '|' + board[6])\n",
    "    print('-|-|-')\n",
    "    print(board[1] + '|' + board[2] + '|' + board[3])"
   ]
  },
  {
   "cell_type": "code",
   "execution_count": 3,
   "id": "7344d568",
   "metadata": {},
   "outputs": [
    {
     "name": "stdout",
     "output_type": "stream",
     "text": [
      "X|O|X\n",
      "-|-|-\n",
      "O|X|O\n",
      "-|-|-\n",
      "X|O|X\n"
     ]
    }
   ],
   "source": [
    "# Test board\n",
    "test_board = ['#','X','O','X','O','X','O','X','O','X']\n",
    "display_board(test_board)"
   ]
  },
  {
   "cell_type": "code",
   "execution_count": 4,
   "id": "09ed98aa",
   "metadata": {},
   "outputs": [],
   "source": [
    "## Player choose 'X' or 'O' as their marker\n",
    "\n",
    "def player_input():\n",
    "    \n",
    "    marker = ''\n",
    "    \n",
    "    while marker not in ['X','O']:\n",
    "        marker = input('Player 1, choose your marker X or O: ' )\n",
    "        \n",
    "    if marker == 'X':\n",
    "        return('X','O')\n",
    "    \n",
    "    else:\n",
    "        return('O','X')\n",
    "        "
   ]
  },
  {
   "cell_type": "code",
   "execution_count": 5,
   "id": "3fbcbf39",
   "metadata": {},
   "outputs": [],
   "source": [
    "# Test player input\n",
    "\n",
    "# player1_marker , player2_marker = player_input()"
   ]
  },
  {
   "cell_type": "code",
   "execution_count": 6,
   "id": "ccb668c6",
   "metadata": {},
   "outputs": [],
   "source": [
    "# player2_marker"
   ]
  },
  {
   "cell_type": "code",
   "execution_count": 7,
   "id": "5ce46319",
   "metadata": {},
   "outputs": [],
   "source": [
    "## Assign marker of player to positions on the board\n",
    "\n",
    "def place_marker(board, marker, position):\n",
    "    \n",
    "    board[position] = marker\n"
   ]
  },
  {
   "cell_type": "code",
   "execution_count": 8,
   "id": "cb4505b2",
   "metadata": {},
   "outputs": [],
   "source": [
    "# Test marker\n",
    "\n",
    "# test_board"
   ]
  },
  {
   "cell_type": "code",
   "execution_count": 9,
   "id": "bff50def",
   "metadata": {},
   "outputs": [],
   "source": [
    "# place_marker(test_board, 'E' , 5)"
   ]
  },
  {
   "cell_type": "code",
   "execution_count": 10,
   "id": "22163282",
   "metadata": {},
   "outputs": [],
   "source": [
    "## Win check\n",
    "\n",
    "def win_check(board, mark):\n",
    "    return((board[7] == mark and board[8] == mark and board[9] == mark) or #Top row\n",
    "           (board[4] == mark and board[5] == mark and board[6] == mark) or #Middle row\n",
    "           (board[1] == mark and board[2] == mark and board[3] == mark) or #Bottom Row\n",
    "           (board[7] == mark and board[4] == mark and board[1] == mark) or #Left column\n",
    "           (board[8] == mark and board[5] == mark and board[2] == mark) or #Middle column\n",
    "           (board[9] == mark and board[6] == mark and board[3] == mark) or #Right column\n",
    "           (board[9] == mark and board[5] == mark and board[1] == mark) or #Diagonal /\n",
    "           (board[7] == mark and board[5] == mark and board[3] == mark)) #Diagonal \\\n"
   ]
  },
  {
   "cell_type": "code",
   "execution_count": 11,
   "id": "4f8bc967",
   "metadata": {},
   "outputs": [
    {
     "name": "stdout",
     "output_type": "stream",
     "text": [
      "X|O|X\n",
      "-|-|-\n",
      "O|X|O\n",
      "-|-|-\n",
      "X|O|X\n"
     ]
    },
    {
     "data": {
      "text/plain": [
       "True"
      ]
     },
     "execution_count": 11,
     "metadata": {},
     "output_type": "execute_result"
    }
   ],
   "source": [
    "display_board(test_board)\n",
    "win_check(test_board,'X')"
   ]
  },
  {
   "cell_type": "code",
   "execution_count": 12,
   "id": "66c052d1",
   "metadata": {},
   "outputs": [],
   "source": [
    "## Choosing at random which player to go first\n",
    "\n",
    "import random\n",
    "\n",
    "def choose_first():\n",
    "    \n",
    "    flip = random.randint(0,1)\n",
    "    \n",
    "    if flip == 0:\n",
    "        return 'Player 1'\n",
    "    else:\n",
    "        return 'Player 2'"
   ]
  },
  {
   "cell_type": "code",
   "execution_count": 13,
   "id": "7521bdf5",
   "metadata": {},
   "outputs": [],
   "source": [
    "## Check for empty space on the board\n",
    "\n",
    "def space_check(board, position):\n",
    "    \n",
    "    return board[position] == ' '"
   ]
  },
  {
   "cell_type": "code",
   "execution_count": 14,
   "id": "9675ed6e",
   "metadata": {},
   "outputs": [],
   "source": [
    "## Check for filled space on the board\n",
    "\n",
    "def full_board_check(board):\n",
    "    \n",
    "    for i in range(1,10):\n",
    "        if space_check(board, i):\n",
    "            return False\n",
    "    \n",
    "    return True"
   ]
  },
  {
   "cell_type": "code",
   "execution_count": null,
   "id": "6ef63497",
   "metadata": {},
   "outputs": [],
   "source": [
    "## Ask next player for next move\n",
    "\n",
    "def player_choice(board):\n",
    "    \n",
    "    position = 0\n",
    "    \n",
    "    while position not in [1,2,3,4,5,6,7,8,9] or not space_check(board, position):\n",
    "        position = int(input(' Choose a position: (1-9)'))\n",
    "        \n",
    "    return position"
   ]
  },
  {
   "cell_type": "code",
   "execution_count": null,
   "id": "b8667b1d",
   "metadata": {},
   "outputs": [],
   "source": [
    "## Play again?\n",
    "\n",
    "def replay():\n",
    "    \n",
    "    choice = input('Continue playing? Enter Y or N')\n",
    "    \n",
    "    return choice == 'Y'"
   ]
  },
  {
   "cell_type": "code",
   "execution_count": null,
   "id": "4d9d238a",
   "metadata": {},
   "outputs": [
    {
     "name": "stdout",
     "output_type": "stream",
     "text": [
      "Welcome to Tic Tac Toe\n",
      "Player 1, choose your marker X or O: O\n",
      "Player 1 will go first.\n",
      "Player 1 Ready to play? Y or NN\n"
     ]
    }
   ],
   "source": [
    "## Using while loops to run the game\n",
    "\n",
    "# Pre-game (Board, First player, Choose markers)\n",
    "\n",
    "print('Welcome to Tic Tac Toe')\n",
    "\n",
    "while True:\n",
    "    \n",
    "    the_board = [' ']*10\n",
    "    player1_marker, player2_marker = player_input()\n",
    "    \n",
    "    turn = choose_first()\n",
    "    print(turn + ' will go first.')\n",
    "    \n",
    "    play_game = input(turn + ' Ready to play? Y or N')\n",
    "    \n",
    "    if play_game == 'Y':\n",
    "        game_on = True\n",
    "    else:\n",
    "        game_on = False\n",
    "        \n",
    "# Gameplay \n",
    "\n",
    "    while game_on:\n",
    "        \n",
    "        if turn == 'Player 1':\n",
    "            \n",
    "            # Show game board\n",
    "            display_board(the_board)\n",
    "            \n",
    "            # Choose position\n",
    "            position = player_choice(the_board)\n",
    "            place_marker(the_board,player1_marker,position)\n",
    "            \n",
    "            # Check for win\n",
    "            if win_check(the_board, player1_marker):\n",
    "                display_board(the_board)\n",
    "                print('Player 1 is the winner! ')\n",
    "                game_on = False\n",
    "            \n",
    "            # Check for tie\n",
    "            else:\n",
    "                if full_board_check(the_board):\n",
    "                    display_board(the_board)\n",
    "                    print(' It is a tie! ')\n",
    "                    break\n",
    "                \n",
    "                else:\n",
    "                    turn = 'Player 2'\n",
    "            \n",
    "            \n",
    "        # Next player's turn\n",
    "        else:\n",
    "            display_board(the_board)\n",
    "            \n",
    "            # Choose position\n",
    "            position = player_choice(the_board)\n",
    "            place_marker(the_board, player2_marker, position)\n",
    "            \n",
    "            # Check for win\n",
    "            if win_check(the_board, player2_marker):\n",
    "                display_board(the_board)\n",
    "                print('Player 2 is the winner! ')\n",
    "                game_on = False\n",
    "            \n",
    "            # Check for tie\n",
    "            else:\n",
    "                if full_board_check(the_board):\n",
    "                    display_board(the_board)\n",
    "                    print(' It is a tie! ')\n",
    "                    break\n",
    "                \n",
    "                else:\n",
    "                    turn = 'Player 1'\n",
    "\n",
    "    if not replay():\n",
    "        break\n"
   ]
  },
  {
   "cell_type": "code",
   "execution_count": null,
   "id": "953b9ce2",
   "metadata": {},
   "outputs": [],
   "source": []
  },
  {
   "cell_type": "code",
   "execution_count": null,
   "id": "b01bc04e",
   "metadata": {},
   "outputs": [],
   "source": []
  }
 ],
 "metadata": {
  "kernelspec": {
   "display_name": "Python 3",
   "language": "python",
   "name": "python3"
  },
  "language_info": {
   "codemirror_mode": {
    "name": "ipython",
    "version": 3
   },
   "file_extension": ".py",
   "mimetype": "text/x-python",
   "name": "python",
   "nbconvert_exporter": "python",
   "pygments_lexer": "ipython3",
   "version": "3.8.8"
  }
 },
 "nbformat": 4,
 "nbformat_minor": 5
}
